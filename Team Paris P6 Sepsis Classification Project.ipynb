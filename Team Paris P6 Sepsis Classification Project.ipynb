{
 "cells": [
  {
   "cell_type": "markdown",
   "id": "c3c1e9d0-7fa4-4f86-92e0-c0d6bf197a7f",
   "metadata": {},
   "source": [
    "# TEAM PARIS P6 - Sepsis Illness Classification Project"
   ]
  },
  {
   "cell_type": "markdown",
   "id": "025c6eac-476b-4051-a506-208a42edcbff",
   "metadata": {},
   "source": [
    "## Introduction/Background\n"
   ]
  },
  {
   "cell_type": "markdown",
   "id": "93053003-3087-468a-8d74-d9fdd4f58f37",
   "metadata": {},
   "source": [
    "## Business Understanding"
   ]
  },
  {
   "cell_type": "markdown",
   "id": "251b157d-7fe7-4640-9f93-099eed00a808",
   "metadata": {},
   "source": [
    "## Data Understanding"
   ]
  },
  {
   "cell_type": "code",
   "execution_count": null,
   "id": "98d3a29d-3481-40fc-9054-108a39f77bfa",
   "metadata": {},
   "outputs": [],
   "source": [
    "#### Hypothesis & Questions \n",
    "#### Null Hypothesis: H0: There is no relationship between high Body Mass Index and sepsis.\n",
    "#### Alternate Hypothesis: H1: There is a relationship between high Body Mass Index and sepsis.\n",
    "####\n",
    "\n",
    "\n",
    "\n",
    "#### Assumptions:\n",
    "1. It was assumed that the blood pressure used was the diastolic type.\n",
    "\n",
    "\n",
    "#### Questions\n",
    "\n",
    "1. How many patients are under weight, have healthy weight, over weight, obesed and severe obesed?\n",
    "2. What is the distribution of ages for patients captured in the data?\n",
    "3. How many of the patients fall under the Normal, Elevated and High Blood Pressure?\n",
    "4. Is Body Mass Index affected by Age?\n",
    "5. Is Blood Pressure affected by Age?\n",
    "6. What is the relationship between Age and Body In\n",
    "7. How many patients have the tendency of developing sepsis?\n",
    "8. Which age group are more prone to developing sepsis?\n",
    "9. Does having an insurance enhance patients chances of getting sepsis?\n",
    "10. Is body mass directly correlated with a patients tendency to get sepsis?\n",
    "11. Does the blood parameters associated with sepsis?"
   ]
  }
 ],
 "metadata": {
  "kernelspec": {
   "display_name": "Python 3 (ipykernel)",
   "language": "python",
   "name": "python3"
  },
  "language_info": {
   "codemirror_mode": {
    "name": "ipython",
    "version": 3
   },
   "file_extension": ".py",
   "mimetype": "text/x-python",
   "name": "python",
   "nbconvert_exporter": "python",
   "pygments_lexer": "ipython3",
   "version": "3.10.9"
  }
 },
 "nbformat": 4,
 "nbformat_minor": 5
}
