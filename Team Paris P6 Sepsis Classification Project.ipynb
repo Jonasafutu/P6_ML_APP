{
 "cells": [
  {
   "cell_type": "markdown",
   "id": "c3c1e9d0-7fa4-4f86-92e0-c0d6bf197a7f",
   "metadata": {},
   "source": [
    "## TEAM PARIS P6 - Sepsis Illness Classification Project"
   ]
  },
  {
   "cell_type": "markdown",
   "id": "025c6eac-476b-4051-a506-208a42edcbff",
   "metadata": {},
   "source": [
    "### Introduction/Background\n",
    "This project aims at **_classifying patients_** who are infected with the **_sepsis illness._**"
   ]
  },
  {
   "cell_type": "markdown",
   "id": "93053003-3087-468a-8d74-d9fdd4f58f37",
   "metadata": {},
   "source": [
    "### Business Understanding\n",
    "The goal of this project is to predict which patients have sepsis and to determine the likelihood of it beign postitive or negative. \n",
    "To build a **_Machine Learning Model_** that **_predicts sepsis_**. Also, build an **_API (Application Programme Interface)**_ and integrate the Model using **_FastAPI_**"
   ]
  },
  {
   "cell_type": "markdown",
   "id": "251b157d-7fe7-4640-9f93-099eed00a808",
   "metadata": {},
   "source": [
    "### Data Understanding\n",
    "The datasets (train and test) for this project are in csv formats. The following describes the columns present in the data.\n",
    "\n",
    "**_ID_**-- number to represent patient ID\n",
    "\n",
    "**_PRG_**-- Plasma glucose\n",
    "\n",
    "**_PL_**-- Blood Work Result-1 (mu U/ml)\n",
    "\n",
    "**_PR_**-- Blood Pressure (mm Hg)\n",
    "\n",
    "**_SK_**-- Blood Work Result-2 (mm)\n",
    "\n",
    "**_TS_**-- Blood Work Result-3 (mu U/ml)\n",
    "\n",
    "**_M11_**-- Body mass index (weight in kg/(height in m)^2\n",
    "\n",
    "**_BD2_**-- Blood Work Result-4 (mu U/ml)\n",
    "\n",
    "**_Age_**-- patients age (years)\n",
    "\n",
    "**_Insurance_**-- If a patient holds a valid insurance card\n",
    "\n",
    "**_Sepsis_**-- Positive: if a patient in ICU will develop a sepsis , and Negative: otherwise"
   ]
  },
  {
   "cell_type": "markdown",
   "id": "a531ff9c-bfb1-47aa-8917-bf9bf8fd272f",
   "metadata": {},
   "source": [
    "### Hypothesis & Questions \n",
    "\n",
    "*__Null Hypothesis: H0:__* There is no relationship between high Age and sepsis.\n",
    "\n",
    "*__Alternate Hypothesis: H1:__* There is a relationship between Age and sepsis.\n",
    "\n",
    "\n",
    "\n",
    "\n",
    "*__Assumptions:__*\n",
    "1. It was assumed that the blood pressure used was the diastolic type.\n",
    "\n",
    "\n",
    "\n",
    "\n",
    "\n",
    "\n",
    "*__Questions__*\n",
    "\n",
    "1. What is the distribution of ages for patients captured in the data?\n",
    "2. How many of the patients fall under the Normal, Elevated and High Blood Pressure?\n",
    "3. Is Blood Pressure affected by Age?\n",
    "4. What is the relationship between Age and Body Mody Mass Index?\n",
    "5. How many patients are likely to develop sepsis?\n",
    "6. Which age groups are more prone to developing sepsis?\n",
    "7. How many patients are under weight, have healthy weight, over weight, obesed and severe obesed?\n",
    "8. Does having no insurance increase the chances of a patient getting sepsis?\n",
    "9. What is the relationship between age and blood pressure?\n"
   ]
  },
  {
   "cell_type": "code",
   "execution_count": null,
   "id": "773bac12-2500-4ceb-8077-b0420f20e595",
   "metadata": {},
   "outputs": [],
   "source": []
  },
  {
   "cell_type": "markdown",
   "id": "a8cec004-79c4-40ce-a2bf-16eeade907ba",
   "metadata": {},
   "source": [
    "### Importing all relevant libraries and packages"
   ]
  },
  {
   "cell_type": "code",
   "execution_count": 60,
   "id": "9f0edd55-3830-4fdb-88e2-14a635cce98c",
   "metadata": {},
   "outputs": [],
   "source": [
    "# Data handling\n",
    "# Data handling\n",
    "import pandas as pd\n",
    "import numpy as np\n",
    "\n",
    "# Vizualisation (Matplotlib, Plotly, Seaborn, etc. )\n",
    "%matplotlib inline\n",
    "import matplotlib.pyplot as plt\n",
    "import seaborn as sns\n",
    "import plotly.graph_objects as go\n",
    "import plotly.express as px\n",
    "\n",
    "# Feature Processing (Scikit-learn processing, etc. )\n",
    "from sklearn.impute import SimpleImputer\n",
    "from sklearn.preprocessing import StandardScaler, OneHotEncoder\n",
    "from sklearn.pipeline import Pipeline\n",
    "from sklearn.compose import ColumnTransformer\n",
    "from sklearn.metrics import confusion_matrix , classification_report, f1_score, accuracy_score,\\\n",
    "precision_score, recall_score, fbeta_score, make_scorer, roc_auc_score\n",
    "from sklearn.model_selection import train_test_split, GridSearchCV\n",
    "#from skopt import BayesSearchCV\n",
    "from sklearn.utils import class_weight\n",
    "\n",
    "import scipy.stats as stats\n",
    "\n",
    "# models \n",
    "from sklearn import svm\n",
    "#from xgboost import XGBClassifier\n",
    "from sklearn.linear_model import LogisticRegression\n",
    "from sklearn.tree import DecisionTreeClassifier\n",
    "from sklearn.ensemble import RandomForestClassifier\n",
    "\n",
    "# model interpretation\n",
    "#import shap\n",
    "\n",
    "import pickle\n",
    "import os\n",
    "import warnings\n",
    "warnings.filterwarnings(\"ignore\")"
   ]
  },
  {
   "cell_type": "code",
   "execution_count": 61,
   "id": "a9bf6c9b-2812-4bcf-b6c1-c5bfdfa63bc9",
   "metadata": {},
   "outputs": [
    {
     "data": {
      "text/html": [
       "<div>\n",
       "<style scoped>\n",
       "    .dataframe tbody tr th:only-of-type {\n",
       "        vertical-align: middle;\n",
       "    }\n",
       "\n",
       "    .dataframe tbody tr th {\n",
       "        vertical-align: top;\n",
       "    }\n",
       "\n",
       "    .dataframe thead th {\n",
       "        text-align: right;\n",
       "    }\n",
       "</style>\n",
       "<table border=\"1\" class=\"dataframe\">\n",
       "  <thead>\n",
       "    <tr style=\"text-align: right;\">\n",
       "      <th></th>\n",
       "      <th>ID</th>\n",
       "      <th>PRG</th>\n",
       "      <th>PL</th>\n",
       "      <th>PR</th>\n",
       "      <th>SK</th>\n",
       "      <th>TS</th>\n",
       "      <th>M11</th>\n",
       "      <th>BD2</th>\n",
       "      <th>Age</th>\n",
       "      <th>Insurance</th>\n",
       "      <th>Sepssis</th>\n",
       "    </tr>\n",
       "  </thead>\n",
       "  <tbody>\n",
       "    <tr>\n",
       "      <th>0</th>\n",
       "      <td>ICU200010</td>\n",
       "      <td>6</td>\n",
       "      <td>148</td>\n",
       "      <td>72</td>\n",
       "      <td>35</td>\n",
       "      <td>0</td>\n",
       "      <td>33.6</td>\n",
       "      <td>0.627</td>\n",
       "      <td>50</td>\n",
       "      <td>0</td>\n",
       "      <td>Positive</td>\n",
       "    </tr>\n",
       "    <tr>\n",
       "      <th>1</th>\n",
       "      <td>ICU200011</td>\n",
       "      <td>1</td>\n",
       "      <td>85</td>\n",
       "      <td>66</td>\n",
       "      <td>29</td>\n",
       "      <td>0</td>\n",
       "      <td>26.6</td>\n",
       "      <td>0.351</td>\n",
       "      <td>31</td>\n",
       "      <td>0</td>\n",
       "      <td>Negative</td>\n",
       "    </tr>\n",
       "    <tr>\n",
       "      <th>2</th>\n",
       "      <td>ICU200012</td>\n",
       "      <td>8</td>\n",
       "      <td>183</td>\n",
       "      <td>64</td>\n",
       "      <td>0</td>\n",
       "      <td>0</td>\n",
       "      <td>23.3</td>\n",
       "      <td>0.672</td>\n",
       "      <td>32</td>\n",
       "      <td>1</td>\n",
       "      <td>Positive</td>\n",
       "    </tr>\n",
       "    <tr>\n",
       "      <th>3</th>\n",
       "      <td>ICU200013</td>\n",
       "      <td>1</td>\n",
       "      <td>89</td>\n",
       "      <td>66</td>\n",
       "      <td>23</td>\n",
       "      <td>94</td>\n",
       "      <td>28.1</td>\n",
       "      <td>0.167</td>\n",
       "      <td>21</td>\n",
       "      <td>1</td>\n",
       "      <td>Negative</td>\n",
       "    </tr>\n",
       "    <tr>\n",
       "      <th>4</th>\n",
       "      <td>ICU200014</td>\n",
       "      <td>0</td>\n",
       "      <td>137</td>\n",
       "      <td>40</td>\n",
       "      <td>35</td>\n",
       "      <td>168</td>\n",
       "      <td>43.1</td>\n",
       "      <td>2.288</td>\n",
       "      <td>33</td>\n",
       "      <td>1</td>\n",
       "      <td>Positive</td>\n",
       "    </tr>\n",
       "  </tbody>\n",
       "</table>\n",
       "</div>"
      ],
      "text/plain": [
       "          ID  PRG   PL  PR  SK   TS   M11    BD2  Age  Insurance   Sepssis\n",
       "0  ICU200010    6  148  72  35    0  33.6  0.627   50          0  Positive\n",
       "1  ICU200011    1   85  66  29    0  26.6  0.351   31          0  Negative\n",
       "2  ICU200012    8  183  64   0    0  23.3  0.672   32          1  Positive\n",
       "3  ICU200013    1   89  66  23   94  28.1  0.167   21          1  Negative\n",
       "4  ICU200014    0  137  40  35  168  43.1  2.288   33          1  Positive"
      ]
     },
     "execution_count": 61,
     "metadata": {},
     "output_type": "execute_result"
    }
   ],
   "source": [
    "#load preview the dataset\n",
    "sepsis_data = pd.read_csv(\"Paitients_Files_Train.csv\")\n",
    "sepsis_data.head()\n"
   ]
  },
  {
   "cell_type": "markdown",
   "id": "9a4546dc-cfba-4df8-baa2-4cdd73e45cea",
   "metadata": {},
   "source": [
    "### Overview Of Dataset\n",
    "Basic inspection of the dataset"
   ]
  },
  {
   "cell_type": "code",
   "execution_count": 62,
   "id": "138fa28a-1970-45d7-a3c5-2f71984ef6a4",
   "metadata": {},
   "outputs": [
    {
     "data": {
      "text/plain": [
       "['ID',\n",
       " 'PRG',\n",
       " 'PL',\n",
       " 'PR',\n",
       " 'SK',\n",
       " 'TS',\n",
       " 'M11',\n",
       " 'BD2',\n",
       " 'Age',\n",
       " 'Insurance',\n",
       " 'Sepssis']"
      ]
     },
     "execution_count": 62,
     "metadata": {},
     "output_type": "execute_result"
    }
   ],
   "source": [
    "# Listing the columns in the data\n",
    "sepsis_data.columns.to_list()"
   ]
  },
  {
   "cell_type": "code",
   "execution_count": 63,
   "id": "58af3101-6f11-4a78-a9ce-eaf379493f89",
   "metadata": {},
   "outputs": [
    {
     "data": {
      "text/plain": [
       "(599, 11)"
      ]
     },
     "execution_count": 63,
     "metadata": {},
     "output_type": "execute_result"
    }
   ],
   "source": [
    "# Checking the shape of the data\n",
    "sepsis_data.shape"
   ]
  },
  {
   "cell_type": "markdown",
   "id": "9eb4a6df-e441-43dd-ab99-8df9bccc8b81",
   "metadata": {},
   "source": [
    ">- **The dataset has 599 rows and 11 columns**"
   ]
  },
  {
   "cell_type": "code",
   "execution_count": 64,
   "id": "64bda1aa-d633-407c-910f-0fd1d6828fc1",
   "metadata": {},
   "outputs": [
    {
     "name": "stdout",
     "output_type": "stream",
     "text": [
      "<class 'pandas.core.frame.DataFrame'>\n",
      "RangeIndex: 599 entries, 0 to 598\n",
      "Data columns (total 11 columns):\n",
      " #   Column     Non-Null Count  Dtype  \n",
      "---  ------     --------------  -----  \n",
      " 0   ID         599 non-null    object \n",
      " 1   PRG        599 non-null    int64  \n",
      " 2   PL         599 non-null    int64  \n",
      " 3   PR         599 non-null    int64  \n",
      " 4   SK         599 non-null    int64  \n",
      " 5   TS         599 non-null    int64  \n",
      " 6   M11        599 non-null    float64\n",
      " 7   BD2        599 non-null    float64\n",
      " 8   Age        599 non-null    int64  \n",
      " 9   Insurance  599 non-null    int64  \n",
      " 10  Sepssis    599 non-null    object \n",
      "dtypes: float64(2), int64(7), object(2)\n",
      "memory usage: 51.6+ KB\n"
     ]
    }
   ],
   "source": [
    "# Checking for more information about the data\n",
    "sepsis_data.info()"
   ]
  },
  {
   "cell_type": "markdown",
   "id": "300350b7-900e-433e-8d02-55e7b3ebb89e",
   "metadata": {},
   "source": [
    ">- **It appears all the columns are of numeric data types**"
   ]
  },
  {
   "cell_type": "code",
   "execution_count": 65,
   "id": "f84a15a3-b3d8-437b-8c2f-8de00bc9b5a2",
   "metadata": {},
   "outputs": [
    {
     "data": {
      "text/plain": [
       "ID           0\n",
       "PRG          0\n",
       "PL           0\n",
       "PR           0\n",
       "SK           0\n",
       "TS           0\n",
       "M11          0\n",
       "BD2          0\n",
       "Age          0\n",
       "Insurance    0\n",
       "Sepssis      0\n",
       "dtype: int64"
      ]
     },
     "execution_count": 65,
     "metadata": {},
     "output_type": "execute_result"
    }
   ],
   "source": [
    "# Checking for missing/null values\n",
    "sepsis_data.isna().sum()"
   ]
  },
  {
   "cell_type": "markdown",
   "id": "529d1fb8-89cc-4601-87d5-b4a8e979d80a",
   "metadata": {},
   "source": [
    ">- **There are no missing values in the data**"
   ]
  },
  {
   "cell_type": "code",
   "execution_count": 66,
   "id": "312b2973-2da7-4afe-8948-a468be65a907",
   "metadata": {},
   "outputs": [
    {
     "data": {
      "text/plain": [
       "0"
      ]
     },
     "execution_count": 66,
     "metadata": {},
     "output_type": "execute_result"
    }
   ],
   "source": [
    "# Checking for duplicates\n",
    "sepsis_data.duplicated().sum()"
   ]
  },
  {
   "cell_type": "markdown",
   "id": "21ddc66f-d456-4c66-85b9-e0c3ee8ea455",
   "metadata": {},
   "source": [
    ">- **There are no duplicates**"
   ]
  },
  {
   "cell_type": "code",
   "execution_count": 67,
   "id": "d34d9014-597b-4960-84bd-dcceac064350",
   "metadata": {},
   "outputs": [],
   "source": [
    "# Create a function to print the number of unique values\n",
    "def print_unique_values(data):\n",
    "    values = {}\n",
    "    for col in data.columns:\n",
    "        number = data[col].nunique()\n",
    "        print(f'{col}: has {number} of unique values')   "
   ]
  },
  {
   "cell_type": "code",
   "execution_count": 68,
   "id": "149a8e56-106c-4411-a154-d4dccabedac0",
   "metadata": {},
   "outputs": [
    {
     "name": "stdout",
     "output_type": "stream",
     "text": [
      "ID: has 599 of unique values\n",
      "PRG: has 17 of unique values\n",
      "PL: has 129 of unique values\n",
      "PR: has 44 of unique values\n",
      "SK: has 51 of unique values\n",
      "TS: has 164 of unique values\n",
      "M11: has 233 of unique values\n",
      "BD2: has 437 of unique values\n",
      "Age: has 50 of unique values\n",
      "Insurance: has 2 of unique values\n",
      "Sepssis: has 2 of unique values\n"
     ]
    }
   ],
   "source": [
    "print_unique_values(sepsis_data)"
   ]
  },
  {
   "cell_type": "code",
   "execution_count": 69,
   "id": "9968bb36-3108-43c3-89cb-afd78418e583",
   "metadata": {},
   "outputs": [],
   "source": [
    "# Create a function to check if there are zeros in the data\n",
    "def number_of_zeros(data):\n",
    "    for col in data.columns:\n",
    "        if col != 'Sepssis':\n",
    "            count = (data[col] == 0).sum()\n",
    "            print(f'Count of zeros in Column  {col} : {count}')"
   ]
  },
  {
   "cell_type": "code",
   "execution_count": 70,
   "id": "6bd9387f-6d33-40ca-9d46-871fc5cd60ef",
   "metadata": {},
   "outputs": [
    {
     "name": "stdout",
     "output_type": "stream",
     "text": [
      "Count of zeros in Column  ID : 0\n",
      "Count of zeros in Column  PRG : 93\n",
      "Count of zeros in Column  PL : 5\n",
      "Count of zeros in Column  PR : 28\n",
      "Count of zeros in Column  SK : 175\n",
      "Count of zeros in Column  TS : 289\n",
      "Count of zeros in Column  M11 : 9\n",
      "Count of zeros in Column  BD2 : 0\n",
      "Count of zeros in Column  Age : 0\n",
      "Count of zeros in Column  Insurance : 188\n"
     ]
    }
   ],
   "source": [
    "number_of_zeros(sepsis_data)"
   ]
  },
  {
   "cell_type": "markdown",
   "id": "377a1db4-7f01-4923-9ae6-7d611d86894e",
   "metadata": {},
   "source": [
    ">- **Although there were no null values in the columns, some of the columns had 0's in the them**"
   ]
  },
  {
   "cell_type": "code",
   "execution_count": 71,
   "id": "3f3ca65e-5a06-4d28-9a2a-823b7f8c1fa4",
   "metadata": {},
   "outputs": [
    {
     "data": {
      "text/plain": [
       "Index(['ID', 'PRG', 'PL', 'PR', 'SK', 'TS', 'M11', 'BD2', 'Age', 'Insurance',\n",
       "       'Sepssis'],\n",
       "      dtype='object')"
      ]
     },
     "execution_count": 71,
     "metadata": {},
     "output_type": "execute_result"
    }
   ],
   "source": [
    "# checking the column headers\n",
    "sepsis_data.columns"
   ]
  },
  {
   "cell_type": "markdown",
   "id": "24631856-ed7e-4858-a54a-3c91d282bda8",
   "metadata": {},
   "source": [
    ">- **The above cell displays the column names, however they are not descriptive enough**"
   ]
  },
  {
   "cell_type": "markdown",
   "id": "ff37df1d-0a7a-44cc-af7b-5d7f0d139402",
   "metadata": {},
   "source": [
    "#### Rename the columns"
   ]
  },
  {
   "cell_type": "code",
   "execution_count": 72,
   "id": "96490e39-95be-4287-92a4-3d9bc2f34d4f",
   "metadata": {},
   "outputs": [],
   "source": [
    "sepsis_data = sepsis_data.rename(columns={'PRG': 'Plasma Glucose', 'PL': 'Blood Work Result-1',\n",
    "                        'PR': 'Blood Pressure','SK': 'Blood Work Result-2',\n",
    "                        'TS': 'Blood Work Result-3', 'M11': 'Body Mass Index',\n",
    "                        'BD2': 'Blood Work Result-4', 'Sepssis': 'Sepsis'})"
   ]
  },
  {
   "cell_type": "code",
   "execution_count": 73,
   "id": "47503491-c479-4edb-a165-1eb7819ba6d4",
   "metadata": {},
   "outputs": [
    {
     "data": {
      "text/html": [
       "<div>\n",
       "<style scoped>\n",
       "    .dataframe tbody tr th:only-of-type {\n",
       "        vertical-align: middle;\n",
       "    }\n",
       "\n",
       "    .dataframe tbody tr th {\n",
       "        vertical-align: top;\n",
       "    }\n",
       "\n",
       "    .dataframe thead th {\n",
       "        text-align: right;\n",
       "    }\n",
       "</style>\n",
       "<table border=\"1\" class=\"dataframe\">\n",
       "  <thead>\n",
       "    <tr style=\"text-align: right;\">\n",
       "      <th></th>\n",
       "      <th>ID</th>\n",
       "      <th>Plasma Glucose</th>\n",
       "      <th>Blood Work Result-1</th>\n",
       "      <th>Blood Pressure</th>\n",
       "      <th>Blood Work Result-2</th>\n",
       "      <th>Blood Work Result-3</th>\n",
       "      <th>Body Mass Index</th>\n",
       "      <th>Blood Work Result-4</th>\n",
       "      <th>Age</th>\n",
       "      <th>Insurance</th>\n",
       "      <th>Sepsis</th>\n",
       "    </tr>\n",
       "  </thead>\n",
       "  <tbody>\n",
       "    <tr>\n",
       "      <th>0</th>\n",
       "      <td>ICU200010</td>\n",
       "      <td>6</td>\n",
       "      <td>148</td>\n",
       "      <td>72</td>\n",
       "      <td>35</td>\n",
       "      <td>0</td>\n",
       "      <td>33.6</td>\n",
       "      <td>0.627</td>\n",
       "      <td>50</td>\n",
       "      <td>0</td>\n",
       "      <td>Positive</td>\n",
       "    </tr>\n",
       "    <tr>\n",
       "      <th>1</th>\n",
       "      <td>ICU200011</td>\n",
       "      <td>1</td>\n",
       "      <td>85</td>\n",
       "      <td>66</td>\n",
       "      <td>29</td>\n",
       "      <td>0</td>\n",
       "      <td>26.6</td>\n",
       "      <td>0.351</td>\n",
       "      <td>31</td>\n",
       "      <td>0</td>\n",
       "      <td>Negative</td>\n",
       "    </tr>\n",
       "    <tr>\n",
       "      <th>2</th>\n",
       "      <td>ICU200012</td>\n",
       "      <td>8</td>\n",
       "      <td>183</td>\n",
       "      <td>64</td>\n",
       "      <td>0</td>\n",
       "      <td>0</td>\n",
       "      <td>23.3</td>\n",
       "      <td>0.672</td>\n",
       "      <td>32</td>\n",
       "      <td>1</td>\n",
       "      <td>Positive</td>\n",
       "    </tr>\n",
       "    <tr>\n",
       "      <th>3</th>\n",
       "      <td>ICU200013</td>\n",
       "      <td>1</td>\n",
       "      <td>89</td>\n",
       "      <td>66</td>\n",
       "      <td>23</td>\n",
       "      <td>94</td>\n",
       "      <td>28.1</td>\n",
       "      <td>0.167</td>\n",
       "      <td>21</td>\n",
       "      <td>1</td>\n",
       "      <td>Negative</td>\n",
       "    </tr>\n",
       "    <tr>\n",
       "      <th>4</th>\n",
       "      <td>ICU200014</td>\n",
       "      <td>0</td>\n",
       "      <td>137</td>\n",
       "      <td>40</td>\n",
       "      <td>35</td>\n",
       "      <td>168</td>\n",
       "      <td>43.1</td>\n",
       "      <td>2.288</td>\n",
       "      <td>33</td>\n",
       "      <td>1</td>\n",
       "      <td>Positive</td>\n",
       "    </tr>\n",
       "  </tbody>\n",
       "</table>\n",
       "</div>"
      ],
      "text/plain": [
       "          ID  Plasma Glucose  Blood Work Result-1  Blood Pressure  \\\n",
       "0  ICU200010               6                  148              72   \n",
       "1  ICU200011               1                   85              66   \n",
       "2  ICU200012               8                  183              64   \n",
       "3  ICU200013               1                   89              66   \n",
       "4  ICU200014               0                  137              40   \n",
       "\n",
       "   Blood Work Result-2  Blood Work Result-3  Body Mass Index  \\\n",
       "0                   35                    0             33.6   \n",
       "1                   29                    0             26.6   \n",
       "2                    0                    0             23.3   \n",
       "3                   23                   94             28.1   \n",
       "4                   35                  168             43.1   \n",
       "\n",
       "   Blood Work Result-4  Age  Insurance    Sepsis  \n",
       "0                0.627   50          0  Positive  \n",
       "1                0.351   31          0  Negative  \n",
       "2                0.672   32          1  Positive  \n",
       "3                0.167   21          1  Negative  \n",
       "4                2.288   33          1  Positive  "
      ]
     },
     "execution_count": 73,
     "metadata": {},
     "output_type": "execute_result"
    }
   ],
   "source": [
    "# Checking the rename of columns\n",
    "sepsis_data.head()"
   ]
  },
  {
   "cell_type": "markdown",
   "id": "5641ecde-1927-40ce-a118-8d394490a8bf",
   "metadata": {},
   "source": [
    ">- **Columns were successfully renamed and are now descriptive**"
   ]
  },
  {
   "cell_type": "code",
   "execution_count": 74,
   "id": "88f69eb4-a536-465e-b35f-f178adc50b98",
   "metadata": {},
   "outputs": [
    {
     "data": {
      "text/html": [
       "<div>\n",
       "<style scoped>\n",
       "    .dataframe tbody tr th:only-of-type {\n",
       "        vertical-align: middle;\n",
       "    }\n",
       "\n",
       "    .dataframe tbody tr th {\n",
       "        vertical-align: top;\n",
       "    }\n",
       "\n",
       "    .dataframe thead th {\n",
       "        text-align: right;\n",
       "    }\n",
       "</style>\n",
       "<table border=\"1\" class=\"dataframe\">\n",
       "  <thead>\n",
       "    <tr style=\"text-align: right;\">\n",
       "      <th></th>\n",
       "      <th>Plasma Glucose</th>\n",
       "      <th>Blood Work Result-1</th>\n",
       "      <th>Blood Pressure</th>\n",
       "      <th>Blood Work Result-2</th>\n",
       "      <th>Blood Work Result-3</th>\n",
       "      <th>Body Mass Index</th>\n",
       "      <th>Blood Work Result-4</th>\n",
       "      <th>Age</th>\n",
       "      <th>Insurance</th>\n",
       "    </tr>\n",
       "  </thead>\n",
       "  <tbody>\n",
       "    <tr>\n",
       "      <th>count</th>\n",
       "      <td>599.000000</td>\n",
       "      <td>599.000000</td>\n",
       "      <td>599.000000</td>\n",
       "      <td>599.000000</td>\n",
       "      <td>599.000000</td>\n",
       "      <td>599.000000</td>\n",
       "      <td>599.000000</td>\n",
       "      <td>599.000000</td>\n",
       "      <td>599.000000</td>\n",
       "    </tr>\n",
       "    <tr>\n",
       "      <th>mean</th>\n",
       "      <td>3.824708</td>\n",
       "      <td>120.153589</td>\n",
       "      <td>68.732888</td>\n",
       "      <td>20.562604</td>\n",
       "      <td>79.460768</td>\n",
       "      <td>31.920033</td>\n",
       "      <td>0.481187</td>\n",
       "      <td>33.290484</td>\n",
       "      <td>0.686144</td>\n",
       "    </tr>\n",
       "    <tr>\n",
       "      <th>std</th>\n",
       "      <td>3.362839</td>\n",
       "      <td>32.682364</td>\n",
       "      <td>19.335675</td>\n",
       "      <td>16.017622</td>\n",
       "      <td>116.576176</td>\n",
       "      <td>8.008227</td>\n",
       "      <td>0.337552</td>\n",
       "      <td>11.828446</td>\n",
       "      <td>0.464447</td>\n",
       "    </tr>\n",
       "    <tr>\n",
       "      <th>min</th>\n",
       "      <td>0.000000</td>\n",
       "      <td>0.000000</td>\n",
       "      <td>0.000000</td>\n",
       "      <td>0.000000</td>\n",
       "      <td>0.000000</td>\n",
       "      <td>0.000000</td>\n",
       "      <td>0.078000</td>\n",
       "      <td>21.000000</td>\n",
       "      <td>0.000000</td>\n",
       "    </tr>\n",
       "    <tr>\n",
       "      <th>25%</th>\n",
       "      <td>1.000000</td>\n",
       "      <td>99.000000</td>\n",
       "      <td>64.000000</td>\n",
       "      <td>0.000000</td>\n",
       "      <td>0.000000</td>\n",
       "      <td>27.100000</td>\n",
       "      <td>0.248000</td>\n",
       "      <td>24.000000</td>\n",
       "      <td>0.000000</td>\n",
       "    </tr>\n",
       "    <tr>\n",
       "      <th>50%</th>\n",
       "      <td>3.000000</td>\n",
       "      <td>116.000000</td>\n",
       "      <td>70.000000</td>\n",
       "      <td>23.000000</td>\n",
       "      <td>36.000000</td>\n",
       "      <td>32.000000</td>\n",
       "      <td>0.383000</td>\n",
       "      <td>29.000000</td>\n",
       "      <td>1.000000</td>\n",
       "    </tr>\n",
       "    <tr>\n",
       "      <th>75%</th>\n",
       "      <td>6.000000</td>\n",
       "      <td>140.000000</td>\n",
       "      <td>80.000000</td>\n",
       "      <td>32.000000</td>\n",
       "      <td>123.500000</td>\n",
       "      <td>36.550000</td>\n",
       "      <td>0.647000</td>\n",
       "      <td>40.000000</td>\n",
       "      <td>1.000000</td>\n",
       "    </tr>\n",
       "    <tr>\n",
       "      <th>max</th>\n",
       "      <td>17.000000</td>\n",
       "      <td>198.000000</td>\n",
       "      <td>122.000000</td>\n",
       "      <td>99.000000</td>\n",
       "      <td>846.000000</td>\n",
       "      <td>67.100000</td>\n",
       "      <td>2.420000</td>\n",
       "      <td>81.000000</td>\n",
       "      <td>1.000000</td>\n",
       "    </tr>\n",
       "  </tbody>\n",
       "</table>\n",
       "</div>"
      ],
      "text/plain": [
       "       Plasma Glucose  Blood Work Result-1  Blood Pressure  \\\n",
       "count      599.000000           599.000000      599.000000   \n",
       "mean         3.824708           120.153589       68.732888   \n",
       "std          3.362839            32.682364       19.335675   \n",
       "min          0.000000             0.000000        0.000000   \n",
       "25%          1.000000            99.000000       64.000000   \n",
       "50%          3.000000           116.000000       70.000000   \n",
       "75%          6.000000           140.000000       80.000000   \n",
       "max         17.000000           198.000000      122.000000   \n",
       "\n",
       "       Blood Work Result-2  Blood Work Result-3  Body Mass Index  \\\n",
       "count           599.000000           599.000000       599.000000   \n",
       "mean             20.562604            79.460768        31.920033   \n",
       "std              16.017622           116.576176         8.008227   \n",
       "min               0.000000             0.000000         0.000000   \n",
       "25%               0.000000             0.000000        27.100000   \n",
       "50%              23.000000            36.000000        32.000000   \n",
       "75%              32.000000           123.500000        36.550000   \n",
       "max              99.000000           846.000000        67.100000   \n",
       "\n",
       "       Blood Work Result-4         Age   Insurance  \n",
       "count           599.000000  599.000000  599.000000  \n",
       "mean              0.481187   33.290484    0.686144  \n",
       "std               0.337552   11.828446    0.464447  \n",
       "min               0.078000   21.000000    0.000000  \n",
       "25%               0.248000   24.000000    0.000000  \n",
       "50%               0.383000   29.000000    1.000000  \n",
       "75%               0.647000   40.000000    1.000000  \n",
       "max               2.420000   81.000000    1.000000  "
      ]
     },
     "execution_count": 74,
     "metadata": {},
     "output_type": "execute_result"
    }
   ],
   "source": [
    "# Checking the statistics of the data\n",
    "sepsis_data.describe()"
   ]
  },
  {
   "cell_type": "markdown",
   "id": "75fa81cb-1fc2-4d01-a3db-fb262551cb91",
   "metadata": {},
   "source": [
    ">- **The mean age for the patients captured is 33.29. The mean blood pressure is 68.732888 mm hg which is lower than 80 mm hg, hence indicates that the patients had averagely a normal pressure**"
   ]
  },
  {
   "cell_type": "markdown",
   "id": "d347b0dd-7446-4f40-9a2c-0f560387a192",
   "metadata": {},
   "source": [
    "#### Check the correlation between the various columns"
   ]
  },
  {
   "cell_type": "code",
   "execution_count": 75,
   "id": "b9d030c8-9f4c-4b09-9cc9-bad03409fcb0",
   "metadata": {
    "scrolled": true,
    "tags": []
   },
   "outputs": [
    {
     "data": {
      "text/html": [
       "<div>\n",
       "<style scoped>\n",
       "    .dataframe tbody tr th:only-of-type {\n",
       "        vertical-align: middle;\n",
       "    }\n",
       "\n",
       "    .dataframe tbody tr th {\n",
       "        vertical-align: top;\n",
       "    }\n",
       "\n",
       "    .dataframe thead th {\n",
       "        text-align: right;\n",
       "    }\n",
       "</style>\n",
       "<table border=\"1\" class=\"dataframe\">\n",
       "  <thead>\n",
       "    <tr style=\"text-align: right;\">\n",
       "      <th></th>\n",
       "      <th>Plasma Glucose</th>\n",
       "      <th>Blood Work Result-1</th>\n",
       "      <th>Blood Pressure</th>\n",
       "      <th>Blood Work Result-2</th>\n",
       "      <th>Blood Work Result-3</th>\n",
       "      <th>Body Mass Index</th>\n",
       "      <th>Blood Work Result-4</th>\n",
       "      <th>Age</th>\n",
       "      <th>Insurance</th>\n",
       "    </tr>\n",
       "  </thead>\n",
       "  <tbody>\n",
       "    <tr>\n",
       "      <th>Plasma Glucose</th>\n",
       "      <td>1.000000</td>\n",
       "      <td>0.139541</td>\n",
       "      <td>0.116680</td>\n",
       "      <td>-0.080902</td>\n",
       "      <td>-0.054812</td>\n",
       "      <td>0.033482</td>\n",
       "      <td>-0.052230</td>\n",
       "      <td>0.532545</td>\n",
       "      <td>0.084631</td>\n",
       "    </tr>\n",
       "    <tr>\n",
       "      <th>Blood Work Result-1</th>\n",
       "      <td>0.139541</td>\n",
       "      <td>1.000000</td>\n",
       "      <td>0.143064</td>\n",
       "      <td>0.054430</td>\n",
       "      <td>0.339818</td>\n",
       "      <td>0.215949</td>\n",
       "      <td>0.144665</td>\n",
       "      <td>0.274057</td>\n",
       "      <td>0.050993</td>\n",
       "    </tr>\n",
       "    <tr>\n",
       "      <th>Blood Pressure</th>\n",
       "      <td>0.116680</td>\n",
       "      <td>0.143064</td>\n",
       "      <td>1.000000</td>\n",
       "      <td>0.197535</td>\n",
       "      <td>0.095281</td>\n",
       "      <td>0.269482</td>\n",
       "      <td>0.008318</td>\n",
       "      <td>0.225625</td>\n",
       "      <td>-0.025365</td>\n",
       "    </tr>\n",
       "    <tr>\n",
       "      <th>Blood Work Result-2</th>\n",
       "      <td>-0.080902</td>\n",
       "      <td>0.054430</td>\n",
       "      <td>0.197535</td>\n",
       "      <td>1.000000</td>\n",
       "      <td>0.429068</td>\n",
       "      <td>0.377950</td>\n",
       "      <td>0.176592</td>\n",
       "      <td>-0.121553</td>\n",
       "      <td>-0.017360</td>\n",
       "    </tr>\n",
       "    <tr>\n",
       "      <th>Blood Work Result-3</th>\n",
       "      <td>-0.054812</td>\n",
       "      <td>0.339818</td>\n",
       "      <td>0.095281</td>\n",
       "      <td>0.429068</td>\n",
       "      <td>1.000000</td>\n",
       "      <td>0.184747</td>\n",
       "      <td>0.218313</td>\n",
       "      <td>-0.011523</td>\n",
       "      <td>0.041560</td>\n",
       "    </tr>\n",
       "    <tr>\n",
       "      <th>Body Mass Index</th>\n",
       "      <td>0.033482</td>\n",
       "      <td>0.215949</td>\n",
       "      <td>0.269482</td>\n",
       "      <td>0.377950</td>\n",
       "      <td>0.184747</td>\n",
       "      <td>1.000000</td>\n",
       "      <td>0.127675</td>\n",
       "      <td>0.046117</td>\n",
       "      <td>0.026826</td>\n",
       "    </tr>\n",
       "    <tr>\n",
       "      <th>Blood Work Result-4</th>\n",
       "      <td>-0.052230</td>\n",
       "      <td>0.144665</td>\n",
       "      <td>0.008318</td>\n",
       "      <td>0.176592</td>\n",
       "      <td>0.218313</td>\n",
       "      <td>0.127675</td>\n",
       "      <td>1.000000</td>\n",
       "      <td>0.033567</td>\n",
       "      <td>0.006114</td>\n",
       "    </tr>\n",
       "    <tr>\n",
       "      <th>Age</th>\n",
       "      <td>0.532545</td>\n",
       "      <td>0.274057</td>\n",
       "      <td>0.225625</td>\n",
       "      <td>-0.121553</td>\n",
       "      <td>-0.011523</td>\n",
       "      <td>0.046117</td>\n",
       "      <td>0.033567</td>\n",
       "      <td>1.000000</td>\n",
       "      <td>0.054368</td>\n",
       "    </tr>\n",
       "    <tr>\n",
       "      <th>Insurance</th>\n",
       "      <td>0.084631</td>\n",
       "      <td>0.050993</td>\n",
       "      <td>-0.025365</td>\n",
       "      <td>-0.017360</td>\n",
       "      <td>0.041560</td>\n",
       "      <td>0.026826</td>\n",
       "      <td>0.006114</td>\n",
       "      <td>0.054368</td>\n",
       "      <td>1.000000</td>\n",
       "    </tr>\n",
       "  </tbody>\n",
       "</table>\n",
       "</div>"
      ],
      "text/plain": [
       "                     Plasma Glucose  Blood Work Result-1  Blood Pressure  \\\n",
       "Plasma Glucose             1.000000             0.139541        0.116680   \n",
       "Blood Work Result-1        0.139541             1.000000        0.143064   \n",
       "Blood Pressure             0.116680             0.143064        1.000000   \n",
       "Blood Work Result-2       -0.080902             0.054430        0.197535   \n",
       "Blood Work Result-3       -0.054812             0.339818        0.095281   \n",
       "Body Mass Index            0.033482             0.215949        0.269482   \n",
       "Blood Work Result-4       -0.052230             0.144665        0.008318   \n",
       "Age                        0.532545             0.274057        0.225625   \n",
       "Insurance                  0.084631             0.050993       -0.025365   \n",
       "\n",
       "                     Blood Work Result-2  Blood Work Result-3  \\\n",
       "Plasma Glucose                 -0.080902            -0.054812   \n",
       "Blood Work Result-1             0.054430             0.339818   \n",
       "Blood Pressure                  0.197535             0.095281   \n",
       "Blood Work Result-2             1.000000             0.429068   \n",
       "Blood Work Result-3             0.429068             1.000000   \n",
       "Body Mass Index                 0.377950             0.184747   \n",
       "Blood Work Result-4             0.176592             0.218313   \n",
       "Age                            -0.121553            -0.011523   \n",
       "Insurance                      -0.017360             0.041560   \n",
       "\n",
       "                     Body Mass Index  Blood Work Result-4       Age  Insurance  \n",
       "Plasma Glucose              0.033482            -0.052230  0.532545   0.084631  \n",
       "Blood Work Result-1         0.215949             0.144665  0.274057   0.050993  \n",
       "Blood Pressure              0.269482             0.008318  0.225625  -0.025365  \n",
       "Blood Work Result-2         0.377950             0.176592 -0.121553  -0.017360  \n",
       "Blood Work Result-3         0.184747             0.218313 -0.011523   0.041560  \n",
       "Body Mass Index             1.000000             0.127675  0.046117   0.026826  \n",
       "Blood Work Result-4         0.127675             1.000000  0.033567   0.006114  \n",
       "Age                         0.046117             0.033567  1.000000   0.054368  \n",
       "Insurance                   0.026826             0.006114  0.054368   1.000000  "
      ]
     },
     "execution_count": 75,
     "metadata": {},
     "output_type": "execute_result"
    }
   ],
   "source": [
    "# Find the correlation between the columns\n",
    "corr_matrix = sepsis_data.corr()\n",
    "corr_matrix"
   ]
  },
  {
   "cell_type": "code",
   "execution_count": 76,
   "id": "67633932-b81c-44c6-a226-7de06eff2324",
   "metadata": {},
   "outputs": [
    {
     "data": {
      "image/png": "[encoded data removed]",
      "text/plain": [
       "<Figure size 800x500 with 2 Axes>"
      ]
     },
     "metadata": {},
     "output_type": "display_data"
    }
   ],
   "source": [
    "# Plot a heatmap for the correlations\n",
    "plt.figure(figsize=(8, 5))\n",
    "sns.heatmap(corr_matrix, annot=True)\n",
    "plt.show();"
   ]
  },
  {
   "cell_type": "code",
   "execution_count": 77,
   "id": "cb9c370e-6776-48f8-8dac-083c4160adfa",
   "metadata": {},
   "outputs": [
    {
     "name": "stdout",
     "output_type": "stream",
     "text": [
      "The minimum correlation was: -0.12155329275228288\n",
      "The columns involved are: ('Blood Work Result-2', 'Age')\n"
     ]
    }
   ],
   "source": [
    "# get the minimum value\n",
    "min_corr = corr_matrix.min().min()  \n",
    "# get the columns involved\n",
    "min_corr_cols = corr_matrix.unstack().idxmin()\n",
    "\n",
    "print('The minimum correlation was:', min_corr)\n",
    "print('The columns involved are:', min_corr_cols)"
   ]
  },
  {
   "cell_type": "code",
   "execution_count": 78,
   "id": "b4d444ad-99eb-4805-97e3-89460ee6298a",
   "metadata": {},
   "outputs": [
    {
     "name": "stdout",
     "output_type": "stream",
     "text": [
      "The maximun correlation was: 0.5325446086908504\n",
      "The columns involved are: ('Plasma Glucose', 'Age')\n"
     ]
    }
   ],
   "source": [
    "# get the minimum value\n",
    "max_corr = (corr_matrix.where(np.triu(np.ones(corr_matrix.shape), k=1).astype(np.bool_))\n",
    "            .max().max())  \n",
    "\n",
    "# get the maximum value (excluding same columns)\n",
    "# get the columns involved\n",
    "max_corr_cols = (corr_matrix.where(np.triu(np.ones(corr_matrix.shape), k=1).astype(np.bool_))\n",
    "                 .stack().idxmax()) \n",
    "\n",
    "print('The maximun correlation was:', max_corr)\n",
    "print('The columns involved are:', max_corr_cols)"
   ]
  },
  {
   "cell_type": "markdown",
   "id": "474fea83-d67c-434f-8ea5-c468a40e9970",
   "metadata": {},
   "source": [
    ">- **The lowest correlation is -0.12155329275228288 between Blood Work Result-2 and Age.** \n",
    "\n",
    ">- **The highest correlation is 0.5325446086908504 between Plasma Glucose and Age**"
   ]
  },
  {
   "cell_type": "markdown",
   "id": "21fefa76-e226-4413-bcc6-7c4bd3c30686",
   "metadata": {},
   "source": [
    "### Hypothesis Testing"
   ]
  },
  {
   "cell_type": "code",
   "execution_count": 79,
   "id": "e87579a3-e910-41ed-8ffa-d6e3537afddb",
   "metadata": {},
   "outputs": [
    {
     "name": "stdout",
     "output_type": "stream",
     "text": [
      "Correlation coefficient: 0.2102342858235142\n",
      "P-value: 2.0718778891887102e-07\n",
      "Reject the null hypothesis\n"
     ]
    }
   ],
   "source": [
    "# Select the Age and Sepsis columns from the dataset\n",
    "age = sepsis_data['Age']\n",
    "sepsis = (sepsis_data['Sepsis'] == 'Positive').astype(bool).astype(int)\n",
    "\n",
    "# Perform correlation analysis\n",
    "correlation, p_value = stats.pearsonr(age, sepsis)\n",
    "\n",
    "# Print the correlation coefficient and p-value\n",
    "print(\"Correlation coefficient:\", correlation)\n",
    "print(\"P-value:\", p_value)\n",
    "\n",
    "if p_value > 0.05:\n",
    "    print('Fail to reject the null hypothesis. ')\n",
    "else:\n",
    "    print('Reject the null hypothesis')\n"
   ]
  },
  {
   "cell_type": "markdown",
   "id": "ed84f816-b91d-4a27-8a98-be567d9bb32e",
   "metadata": {},
   "source": [
    "### Univariate Anlaysis"
   ]
  },
  {
   "cell_type": "code",
   "execution_count": null,
   "id": "57b2326f-3ff1-4d2a-89ee-b1b4c65864b0",
   "metadata": {},
   "outputs": [],
   "source": []
  }
 ],
 "metadata": {
  "kernelspec": {
   "display_name": "Python 3 (ipykernel)",
   "language": "python",
   "name": "python3"
  },
  "language_info": {
   "codemirror_mode": {
    "name": "ipython",
    "version": 3
   },
   "file_extension": ".py",
   "mimetype": "text/x-python",
   "name": "python",
   "nbconvert_exporter": "python",
   "pygments_lexer": "ipython3",
   "version": "3.10.9"
  }
 },
 "nbformat": 4,
 "nbformat_minor": 5
}
